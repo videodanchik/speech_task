{
 "cells": [
  {
   "cell_type": "code",
   "execution_count": 1,
   "metadata": {},
   "outputs": [
    {
     "name": "stderr",
     "output_type": "stream",
     "text": [
      "/home/danil/external_apps/anaconda3/lib/python3.6/site-packages/h5py/__init__.py:34: FutureWarning: Conversion of the second argument of issubdtype from `float` to `np.floating` is deprecated. In future, it will be treated as `np.float64 == np.dtype(float).type`.\n",
      "  from ._conv import register_converters as _register_converters\n"
     ]
    },
    {
     "name": "stdout",
     "output_type": "stream",
     "text": [
      "Import theano\n"
     ]
    },
    {
     "name": "stderr",
     "output_type": "stream",
     "text": [
      "WARNING (theano.tensor.blas): Using NumPy C-API based implementation for BLAS functions.\n",
      "ERROR (theano.gpuarray): pygpu was configured but could not be imported or is too old (version 0.7 or higher required)\n",
      "NoneType: None\n",
      "WARNING:root:WARNNG: libsvm is not installed, please refer to the documentation if you intend to use SVM classifiers\n"
     ]
    }
   ],
   "source": [
    "import os\n",
    "import numpy as np\n",
    "import sidekit\n",
    "import shutil\n",
    "\n",
    "from tqdm import tqdm_notebook\n",
    "from sklearn.linear_model import LogisticRegression\n",
    "from sklearn.metrics import roc_auc_score, precision_recall_curve, f1_score, precision_score, recall_score\n",
    "import xgboost as xgb"
   ]
  },
  {
   "cell_type": "code",
   "execution_count": 2,
   "metadata": {
    "collapsed": true
   },
   "outputs": [],
   "source": [
    "def convert(filename, save_path, duration=None):\n",
    "    \n",
    "    save_filename = filename.split('/')[-1].split('.')[0]+'.wav'\n",
    "    tmp_filename = os.path.join(save_path, save_filename)\n",
    "    \n",
    "    if duration is None:\n",
    "    # convert to wav (8khz, 16 bit, 1 channel)\n",
    "        os.system(\"sox {} -R --rate 8000 -b 16 -c 1 {} lowpass 3400 highpass 300\".format(filename, tmp_filename))\n",
    "    else:\n",
    "        os.system(\"sox {} -R --rate 8000 -b 16 -c 1 {} lowpass 3400 highpass 300 trim 0 {}\".format(filename,\n",
    "                                                                                                   tmp_filename,\n",
    "                                                                                                   duration))\n",
    "        \n",
    "def get_feature_server(feature_filename_structure):\n",
    "    \n",
    "    fs = sidekit.FeaturesServer(feature_filename_structure=feature_filename_structure,\n",
    "                                dataset_list='[\"cep\"]',\n",
    "                                feat_norm=\"cmvn\",\n",
    "                                delta=True,\n",
    "                                double_delta=True,\n",
    "                                rasta=True,\n",
    "                                mask='[0-12]',\n",
    "                                keep_all_features=True)\n",
    "    \n",
    "    return fs\n",
    "\n",
    "\n",
    "def get_idmap(leftids, rightids):\n",
    "    \n",
    "    idmap = sidekit.IdMap()\n",
    "    idmap.leftids = leftids\n",
    "    idmap.rightids = rightids\n",
    "    idmap.start = np.empty((len(leftids)), dtype=\"|O\")\n",
    "    idmap.stop = np.empty((len(leftids)), dtype=\"|O\")\n",
    "    \n",
    "    return idmap\n",
    "\n",
    "def save_stat(idmap, fs, ubm, distrib_num, thread_num, save_path):\n",
    "    \n",
    "    enroll_stat = sidekit.StatServer(idmap,\n",
    "                                     distrib_nb=distrib_num,\n",
    "                                     feature_size=39)\n",
    "\n",
    "    enroll_stat.accumulate_stat(ubm=ubm, \n",
    "                                feature_server=fs,\n",
    "                                seg_indices=range(enroll_stat.segset.shape[0]),\n",
    "                                num_thread=thread_num)\n",
    "\n",
    "    enroll_stat.write(save_path)\n",
    "    \n",
    "def extract_ivectors(factor_analyser, ubm, stat_path, num_thread, batch_size):\n",
    "    \n",
    "    ivectors = factor_analyser.extract_ivectors(ubm,\n",
    "                                                stat_path,\n",
    "                                                prefix='',\n",
    "                                                batch_size=batch_size,\n",
    "                                                uncertainty=False,\n",
    "                                                num_thread=num_thread)\n",
    "    \n",
    "    return ivectors"
   ]
  },
  {
   "cell_type": "code",
   "execution_count": 3,
   "metadata": {
    "collapsed": true
   },
   "outputs": [],
   "source": [
    "# There is small restriction for this function: in your wav_folder_path english audio file names should start\n",
    "# from the word 'english_' and other languages audio can be whatever you want but not 'english_'\n",
    "\n",
    "def get_ivectors_from_wav(wav_folder_path, ubm_path='i_vectors/ubm/ubm_512.h5',\n",
    "                                           stat_ubm_path='i_vectors/statisics_test.h5',\n",
    "                                           t_matrix_path='i_vectors/total_variability_train.h5'): \n",
    "\n",
    "    save_path_test = 'i_vectors/test/'\n",
    "    shutil.rmtree(save_path_test, ignore_errors=True)\n",
    "    os.mkdir(save_path_test)\n",
    "\n",
    "    files_test2 = os.listdir(wav_folder_path)\n",
    "    for f in files_test2:    \n",
    "        convert(os.path.join(wav_folder_path, f), save_path_test)\n",
    "\n",
    "\n",
    "    extract_folder = save_path_test\n",
    "    extract_folder_list = extract_folder.split('/')\n",
    "    extract_folder_list.insert(1, 'feat')\n",
    "    feat_folder = '/'.join(extract_folder_list)\n",
    "    \n",
    "    shutil.rmtree(feat_folder, ignore_errors=True)\n",
    "\n",
    "    extractor = sidekit.FeaturesExtractor(audio_filename_structure=os.path.join(extract_folder, '{}.wav'),\n",
    "                                          feature_filename_structure=os.path.join(feat_folder, '{}.h5'),\n",
    "                                          sampling_frequency=8000,\n",
    "                                          lower_frequency=200,\n",
    "                                          higher_frequency=3700,\n",
    "                                          filter_bank=\"log\",\n",
    "                                          filter_bank_size=24,\n",
    "                                          window_size=0.025,\n",
    "                                          shift=0.01,\n",
    "                                          ceps_number=20,\n",
    "                                          vad=\"snr\",\n",
    "                                          snr=40,\n",
    "                                          pre_emphasis=0.97,\n",
    "                                          save_param=[\"vad\", \"energy\", \"cep\", \"fb\"],\n",
    "                                          keep_all_features=True)\n",
    "\n",
    "    filenames = [f.split('.')[0] for f in os.listdir(extract_folder)]\n",
    "    channel_list = np.zeros(len(filenames), dtype=np.int8)\n",
    "    extractor.save_list(show_list=filenames,\n",
    "                        channel_list=channel_list,\n",
    "                        num_thread=os.cpu_count()//2)\n",
    "    \n",
    "\n",
    "    fs_test = get_feature_server(os.path.join(feat_folder, '{}.h5'))\n",
    "    ubm_list_test = [f.split('.h5')[0] for f in os.listdir(feat_folder)]\n",
    "\n",
    "    ubm = sidekit.Mixture(ubm_path)\n",
    "\n",
    "    leftids_test = np.array(['eng' if f.startswith('english') else 'oth' for f in ubm_list_test])\n",
    "    rightids_test = np.array(ubm_list_test)\n",
    "\n",
    "    idmap_test = get_idmap(leftids_test, rightids_test)\n",
    "    save_stat(idmap_test, fs_test, ubm, 512, os.cpu_count()//2, stat_ubm_path)\n",
    "\n",
    "    fa = sidekit.FactorAnalyser(t_matrix_path)\n",
    "    ivectors_test = extract_ivectors(fa, ubm, stat_ubm_path, os.cpu_count()//2, len(ubm_list_test)+20)\n",
    "        \n",
    "    X = ivectors_test.stat1\n",
    "    y = np.array([0 if i == 'eng' else 1 for i in leftids_test])\n",
    "    \n",
    "    return X, y\n",
    "\n",
    "\n",
    "def get_xgboost_predictions(X, model_path='xgb/xgb_model.model'):\n",
    "    \n",
    "    model = xgb.Booster(model_file=model_path)\n",
    "    d_matr = xgb.DMatrix(X)\n",
    "    preds = model.predict(d_matr)\n",
    "    \n",
    "    return preds"
   ]
  },
  {
   "cell_type": "code",
   "execution_count": 4,
   "metadata": {},
   "outputs": [],
   "source": [
    "def main(wav_folder_path):\n",
    "    X, y = get_ivectors_from_wav(wav_folder_path)\n",
    "    preds = get_xgboost_predictions(X)\n",
    "    \n",
    "    return preds, y"
   ]
  },
  {
   "cell_type": "code",
   "execution_count": 5,
   "metadata": {},
   "outputs": [
    {
     "name": "stdout",
     "output_type": "stream",
     "text": [
      "lid_test_small\n"
     ]
    }
   ],
   "source": [
    "wav_folder_path = input()\n",
    "\n",
    "preds, y = main(wav_folder_path)"
   ]
  },
  {
   "cell_type": "code",
   "execution_count": null,
   "metadata": {
    "collapsed": true
   },
   "outputs": [],
   "source": []
  }
 ],
 "metadata": {
  "kernelspec": {
   "display_name": "Python 3",
   "language": "python",
   "name": "python3"
  },
  "language_info": {
   "codemirror_mode": {
    "name": "ipython",
    "version": 3
   },
   "file_extension": ".py",
   "mimetype": "text/x-python",
   "name": "python",
   "nbconvert_exporter": "python",
   "pygments_lexer": "ipython3",
   "version": "3.6.3"
  }
 },
 "nbformat": 4,
 "nbformat_minor": 2
}
